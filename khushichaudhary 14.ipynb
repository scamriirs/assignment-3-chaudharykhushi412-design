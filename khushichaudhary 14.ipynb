{
 "cells": [
  {
   "cell_type": "markdown",
   "id": "49cac170-c1f9-4406-898c-b96b4f6a6ff1",
   "metadata": {},
   "source": [
    "Question1. \n",
    "•\tCreate an empty list called shopping_cart.\n",
    "•\tAsk the user to input three items one by one and add each to the list.\n",
    "•\tPrint the final list.\n",
    "•\tThen, remove the second item and print the updated list.\n"
   ]
  },
  {
   "cell_type": "code",
   "execution_count": 8,
   "id": "02abd6d7-14d0-4cd7-a009-f40842141631",
   "metadata": {},
   "outputs": [
    {
     "name": "stdin",
     "output_type": "stream",
     "text": [
      "Enter item 1:  apples\n",
      "Enter item 2:  bread\n",
      "Enter item 3:  milk\n"
     ]
    },
    {
     "name": "stdout",
     "output_type": "stream",
     "text": [
      "Final shopping cart: ['apples', 'bread', 'milk']\n",
      "Updated shopping cart after removing the second item: ['apples', 'milk']\n"
     ]
    }
   ],
   "source": [
    "shopping_cart = []\n",
    "\n",
    "for i in range(3):\n",
    "    item = input(f\"Enter item {i+1}: \")\n",
    "    shopping_cart.append(item)\n",
    "\n",
    "\n",
    "print(\"Final shopping cart:\", shopping_cart)\n",
    "\n",
    "if len(shopping_cart) >= 2:\n",
    "    shopping_cart.pop(1)\n",
    "    print(\"Updated shopping cart after removing the second item:\", shopping_cart)\n",
    "else:\n",
    "    print(\"Not enough items to remove the second one.\")\n"
   ]
  },
  {
   "cell_type": "markdown",
   "id": "3c59ee80-2c04-4f7c-a8aa-8d8571165f19",
   "metadata": {},
   "source": [
    "Question 2. \n",
    "•\tCreate a tuple named student that contains a student's first name, last name, and age (e.g., ('John', 'Doe', 19)).\n",
    "•\tPrint the entire tuple.\n",
    "•\tPrint only the student's last name using indexing.\n"
   ]
  },
  {
   "cell_type": "code",
   "execution_count": 11,
   "id": "e48b88e9-c82c-4eaf-9b0a-347149173c41",
   "metadata": {},
   "outputs": [
    {
     "name": "stdout",
     "output_type": "stream",
     "text": [
      "Student tuple: ('John', 'Doe', 19)\n",
      "Last name: Doe\n"
     ]
    }
   ],
   "source": [
    "student = (\"John\", \"Doe\", 19)\n",
    "print(\"Student tuple:\", student)\n",
    "\n",
    "print(\"Last name:\", student[1])\n"
   ]
  },
  {
   "cell_type": "markdown",
   "id": "f9e0dd89-e2bd-47be-a821-48d20504c13c",
   "metadata": {},
   "source": [
    "Question 3. \n",
    "•\tCreate an empty dictionary called phone_book.\n",
    "•\tAdd three key-value pairs to it, where the key is a person's name and the value is their phone number.\n",
    "•\tPrint the entire dictionary.\n",
    "•\tAsk the user for a name and print that person's phone number. Handle the case where the name is not found.\n"
   ]
  },
  {
   "cell_type": "code",
   "execution_count": 14,
   "id": "695e88ff-a914-4cb5-b263-fc1d2378f9f9",
   "metadata": {},
   "outputs": [
    {
     "name": "stdout",
     "output_type": "stream",
     "text": [
      "Phone Book: {'Alice': '123-456-7890', 'Bob': '987-654-3210', 'Charlie': '555-666-7777'}\n"
     ]
    },
    {
     "name": "stdin",
     "output_type": "stream",
     "text": [
      "Enter a name to search:  bob\n"
     ]
    },
    {
     "name": "stdout",
     "output_type": "stream",
     "text": [
      "Sorry, that name is not found in the phone book.\n"
     ]
    }
   ],
   "source": [
    "phone_book = {}\n",
    "\n",
    "phone_book[\"Alice\"] = \"123-456-7890\"\n",
    "phone_book[\"Bob\"] = \"987-654-3210\"\n",
    "phone_book[\"Charlie\"] = \"555-666-7777\"\n",
    "\n",
    "print(\"Phone Book:\", phone_book)\n",
    "\n",
    "name = input(\"Enter a name to search: \")\n",
    "\n",
    "if name in phone_book:\n",
    "    print(f\"{name}'s phone number is: {phone_book[name]}\")\n",
    "else:\n",
    "    print(\"Sorry, that name is not found in the phone book.\")\n"
   ]
  },
  {
   "cell_type": "markdown",
   "id": "a86f9383-74b3-4308-b5a2-ff257b8fcea8",
   "metadata": {},
   "source": [
    "Question 4. \n",
    "•\tCreate a list named movies where each element is a tuple. Each tuple should contain a movie title and its release year (e.g., [('Inception', 2010), ('Toy Story', 1995)]).\n",
    "•\tAdd a new movie tuple to the list.\n",
    "•\tLoop through the list and print each movie's title and year in a formatted string.\n"
   ]
  },
  {
   "cell_type": "code",
   "execution_count": 19,
   "id": "1ad856df-abb6-4528-b17c-c2c4f0cd6001",
   "metadata": {},
   "outputs": [
    {
     "name": "stdout",
     "output_type": "stream",
     "text": [
      "Movie: Inception, Released in: 2010\n",
      "Movie: Toy Story, Released in: 1995\n",
      "Movie: Avengers: Endgame, Released in: 2019\n"
     ]
    }
   ],
   "source": [
    "movies = [(\"Inception\", 2010), (\"Toy Story\", 1995)]\n",
    "movies.append((\"Avengers: Endgame\", 2019))\n",
    "\n",
    "for title, year in movies:\n",
    "    print(f\"Movie: {title}, Released in: {year}\")\n"
   ]
  },
  {
   "cell_type": "markdown",
   "id": "7ef81285-5e2d-4baf-8c93-3db942618771",
   "metadata": {},
   "source": [
    "Question 5. •\tCreate a dictionary named employee that stores information for one employee. It should have the keys: 'name', 'department', and 'skills'.\n",
    "•\tThe value for 'skills' should be a list of programming languages the employee knows (e.g., ['Python', 'SQL']).\n",
    "•\tPrint the employee's name and their second skill.\n"
   ]
  },
  {
   "cell_type": "code",
   "execution_count": 22,
   "id": "59378fe4-5b47-437a-a60e-65a701247298",
   "metadata": {},
   "outputs": [
    {
     "name": "stdout",
     "output_type": "stream",
     "text": [
      "Employee Name: John Doe\n",
      "Second Skill: SQL\n"
     ]
    }
   ],
   "source": [
    "employee = {\n",
    "    \"name\": \"John Doe\",\n",
    "    \"department\": \"IT\",\n",
    "    \"skills\": [\"Python\", \"SQL\", \"Java\"]\n",
    "}\n",
    "\n",
    "print(\"Employee Name:\", employee[\"name\"])\n",
    "\n",
    "print(\"Second Skill:\", employee[\"skills\"][1])\n"
   ]
  },
  {
   "cell_type": "markdown",
   "id": "2fe5d3c9-02d4-44b4-a0dd-208229925532",
   "metadata": {},
   "source": [
    "Question 6. \n",
    "•\tCreate a list of names: names_list = ['Alice', 'Bob', 'Charlie'].\n",
    "•\tConvert this list into a tuple.\n",
    "•\tTry to change the first element of the new tuple to 'David'. Observe and note what happens.\n"
   ]
  },
  {
   "cell_type": "code",
   "execution_count": 25,
   "id": "c48349dd-d357-48d7-a274-6ec0c487aa13",
   "metadata": {},
   "outputs": [
    {
     "name": "stdout",
     "output_type": "stream",
     "text": [
      "Tuple: ('Alice', 'Bob', 'Charlie')\n",
      "Error: 'tuple' object does not support item assignment\n"
     ]
    }
   ],
   "source": [
    "names_list = ['Alice', 'Bob', 'Charlie']\n",
    "\n",
    "names_tuple = tuple(names_list)\n",
    "print(\"Tuple:\", names_tuple)\n",
    "\n",
    "try:\n",
    "    names_tuple[0] = 'David'\n",
    "except TypeError as e:\n",
    "    print(\"Error:\", e)\n"
   ]
  },
  {
   "cell_type": "markdown",
   "id": "95ed8502-252e-4f4e-8151-e1862ab1d609",
   "metadata": {},
   "source": [
    "Question 7. •\tCreate a list fruits = ['apple', 'banana', 'mango'].\n",
    "•\tAsk the user to input a fruit name.\n",
    "•\tCheck if the fruit is in the list and print an appropriate message (e.g., \"Yes, we have bananas!\").\n",
    "•\tNow, check for the same fruit in the keys of this dictionary: prices = {'apple': 1.0, 'banana': 0.5, 'orange': 0.75}.\n"
   ]
  },
  {
   "cell_type": "code",
   "execution_count": 28,
   "id": "01faf2e7-2097-4444-a78b-06210cfaa80b",
   "metadata": {},
   "outputs": [
    {
     "name": "stdin",
     "output_type": "stream",
     "text": [
      "Enter a fruit name:  banana\n"
     ]
    },
    {
     "name": "stdout",
     "output_type": "stream",
     "text": [
      "Yes, we have bananas!\n",
      "The price of banana is $0.5\n"
     ]
    }
   ],
   "source": [
    "fruits = ['apple', 'banana', 'mango']\n",
    "fruit = input(\"Enter a fruit name: \").lower()\n",
    "\n",
    "\n",
    "if fruit in fruits:\n",
    "    print(f\"Yes, we have {fruit}s!\")\n",
    "else:\n",
    "    print(f\"Sorry, we don't have {fruit}s.\")\n",
    "\n",
    "prices = {'apple': 1.0, 'banana': 0.5, 'orange': 0.75}\n",
    "\n",
    "if fruit in prices:\n",
    "    print(f\"The price of {fruit} is ${prices[fruit]}\")\n",
    "else:\n",
    "    print(f\"Sorry, no price available for {fruit}.\")"
   ]
  },
  {
   "cell_type": "markdown",
   "id": "fac7573b-6e36-4a19-a43b-b73e82f58682",
   "metadata": {},
   "source": [
    "Question 8•\tCreate a dictionary called grades where the key is a student's name and the value is a list of their test scores (e.g., {'Alice': [85, 90, 78], 'Bob': [92, 88, 95]}).\n",
    "•\tCalculate and print the average test score for a specific student (e.g., Alice). sum(list) / len(list)\n"
   ]
  },
  {
   "cell_type": "code",
   "execution_count": 31,
   "id": "b17a3636-266a-48ba-9922-60eb482f1af9",
   "metadata": {},
   "outputs": [
    {
     "name": "stdout",
     "output_type": "stream",
     "text": [
      "Alice's average score is: 84.33\n"
     ]
    }
   ],
   "source": [
    "grades = {\n",
    "    'Alice': [85, 90, 78],\n",
    "    'Bob': [92, 88, 95]\n",
    "}\n",
    "\n",
    "student = 'Alice'\n",
    "if student in grades:\n",
    "    scores = grades[student]\n",
    "    average = sum(scores) / len(scores)\n",
    "    print(f\"{student}'s average score is: {average:.2f}\")\n",
    "else:\n",
    "    print(f\"Student {student} not found in records.\")\n"
   ]
  },
  {
   "cell_type": "markdown",
   "id": "9673436c-d52d-4ef5-89cd-a54d690c4cb9",
   "metadata": {},
   "source": [
    "Question 9. \n",
    "•\tCreate a tuple called point that represents a 2D coordinate (e.g., (5, -3)).\n",
    "•\tUse tuple unpacking to assign the values to two variables, x and y.\n",
    "•\tPrint the values of x and y and then calculate the distance from the origin (0, 0) using the formula: (x**2 + y**2)**0.5.\n"
   ]
  },
  {
   "cell_type": "code",
   "execution_count": 36,
   "id": "aabdf3ef-e135-4c30-bff9-9c3ede11066e",
   "metadata": {},
   "outputs": [
    {
     "name": "stdout",
     "output_type": "stream",
     "text": [
      "x: 5\n",
      "y: -3\n",
      "Distance from origin: 5.830951894845301\n"
     ]
    }
   ],
   "source": [
    "point = (5, -3)\n",
    "\n",
    "x, y = point\n",
    "\n",
    "\n",
    "print(\"x:\", x)\n",
    "print(\"y:\", y)\n",
    "distance = (x**2 + y**2)**0.5\n",
    "print(\"Distance from origin:\", distance)\n"
   ]
  },
  {
   "cell_type": "markdown",
   "id": "77e11dc3-6f4e-48f1-9d68-ee317006f147",
   "metadata": {},
   "source": [
    "Question 10. \n",
    "Create a dictionary called menu where the keys are item names and the values are their prices.\n",
    "* Create an empty list called order.\n",
    "* Simulate a customer ordering by asking them to input two item names from the menu. Add each item to the order list.\n",
    "* Calculate the total cost of the order by looking up each item in the order list within the menu dictionary and summing their prices.\n",
    "* Print the total bill amount.\n"
   ]
  },
  {
   "cell_type": "code",
   "execution_count": null,
   "id": "2126bb2d-e668-42bf-a737-3422b03184ef",
   "metadata": {},
   "outputs": [],
   "source": [
    "menu = {\n",
    "    'Burger': 5.0,\n",
    "    'Pizza': 8.5,\n",
    "    'Salad': 4.0,\n",
    "    'Soda': 1.5\n",
    "}\n",
    "\n",
    "order = []\n",
    "\n",
    "for i in range(2):\n",
    "    item = input(f\"Enter item {i+1} from the menu: \")\n",
    "    if item in menu:\n",
    "        order.append(item)\n",
    "    else:\n",
    "        print(f\"Sorry, {item} is not on the menu.\")\n",
    "total = sum(menu[item] for item in order)\n",
    "\n",
    "# Print the total bill amount\n",
    "print(f\"Your total bill is: ${total:.2f}\")\n"
   ]
  }
 ],
 "metadata": {
  "kernelspec": {
   "display_name": "Python [conda env:base] *",
   "language": "python",
   "name": "conda-base-py"
  },
  "language_info": {
   "codemirror_mode": {
    "name": "ipython",
    "version": 3
   },
   "file_extension": ".py",
   "mimetype": "text/x-python",
   "name": "python",
   "nbconvert_exporter": "python",
   "pygments_lexer": "ipython3",
   "version": "3.12.7"
  }
 },
 "nbformat": 4,
 "nbformat_minor": 5
}
