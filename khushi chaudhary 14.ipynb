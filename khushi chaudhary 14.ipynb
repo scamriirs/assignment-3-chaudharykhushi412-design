{
 "cells": [
  {
   "cell_type": "markdown",
   "id": "241c9222-2cd0-4a20-b105-1b905cdb4bc9",
   "metadata": {},
   "source": [
    "Question 1. Write a program that asks the user for two numbers and divides the first by the second. Use a try-except block to catch and handle any ZeroDivisionError, printing a friendly error message like \"Error: You cannot divide by zero!\" instead of letting the program crash."
   ]
  },
  {
   "cell_type": "code",
   "execution_count": 5,
   "id": "5bd120e5-a2b7-431c-8f80-836321c989c7",
   "metadata": {},
   "outputs": [
    {
     "name": "stdin",
     "output_type": "stream",
     "text": [
      "enter the first number 10\n",
      "enter the second number 2\n"
     ]
    },
    {
     "name": "stdout",
     "output_type": "stream",
     "text": [
      "the result of {num1} / {num2} is : {result}\n"
     ]
    }
   ],
   "source": [
    "num1 = float(input(\"enter the first number\"))\n",
    "num2 = float(input(\"enter the second number\"))\n",
    "try:\n",
    "    result = num1/num2\n",
    "    print(\"the result of {num1} / {num2} is : {result}\")\n",
    "except ZerodivisionError:\n",
    "    print(\"error: you cannot divide by zero!\")"
   ]
  },
  {
   "cell_type": "markdown",
   "id": "7a30f975-8972-44f1-a42a-f10646b0741d",
   "metadata": {},
   "source": [
    "Question2. Modify the program from question 1. Now, also handle a ValueError that occurs if the user enters something that isn't a number (e.g., a letter). Print an appropriate message for this error as well (e.g., \"Error: Please enter only numbers.\")."
   ]
  },
  {
   "cell_type": "code",
   "execution_count": 8,
   "id": "8625b1f9-a8c5-479e-b999-f52bdc0f9191",
   "metadata": {},
   "outputs": [
    {
     "name": "stdin",
     "output_type": "stream",
     "text": [
      "Enter the first number:  12\n",
      "Enter the second number:  3\n"
     ]
    },
    {
     "name": "stdout",
     "output_type": "stream",
     "text": [
      "The result of 12.0 / 3.0 is: 4.0\n"
     ]
    }
   ],
   "source": [
    "try:\n",
    "    \n",
    "    num1 = float(input(\"Enter the first number: \"))\n",
    "    num2 = float(input(\"Enter the second number: \"))\n",
    "\n",
    "    result = num1 / num2\n",
    "    print(f\"The result of {num1} / {num2} is: {result}\")\n",
    "\n",
    "except ZeroDivisionError:\n",
    "    print(\"Error: You cannot divide by zero!\")\n",
    "\n",
    "except ValueError:\n",
    "    print(\"Error: Please enter only numbers.\")\n"
   ]
  },
  {
   "cell_type": "markdown",
   "id": "d44d13a2-288b-40a8-802d-8de76b3c9c45",
   "metadata": {},
   "source": [
    "Question3. Extend the division program further. Use a try-except-else block. If the division is successful (no exception is raised), use the else clause to print the result with a message like \"The result is: [result]\"."
   ]
  },
  {
   "cell_type": "code",
   "execution_count": 11,
   "id": "16ef19c0-1f1e-46e7-8ff7-e022c13e0e86",
   "metadata": {},
   "outputs": [
    {
     "name": "stdin",
     "output_type": "stream",
     "text": [
      "Enter the first number:  20\n",
      "Enter the second number:  5\n"
     ]
    },
    {
     "name": "stdout",
     "output_type": "stream",
     "text": [
      "The result is: 4.0\n"
     ]
    }
   ],
   "source": [
    "try:\n",
    "\n",
    "    num1 = float(input(\"Enter the first number: \"))\n",
    "    num2 = float(input(\"Enter the second number: \"))\n",
    "\n",
    "    result = num1 / num2\n",
    "\n",
    "except ZeroDivisionError:\n",
    "    print(\"Error: You cannot divide by zero!\")\n",
    "\n",
    "except ValueError:\n",
    "    print(\"Error: Please enter only numbers.\")\n",
    "\n",
    "else:\n",
    "    print(f\"The result is: {result}\")\n"
   ]
  },
  {
   "cell_type": "markdown",
   "id": "b0ab9d1e-fbb6-41b1-8c6e-c5b8ce356bf5",
   "metadata": {},
   "source": [
    "Question 4. You are reading a number from a file called data.txt.\n",
    "•\tInside a try block, open the file, read the contents, and convert it to an integer.\n",
    "•\tHandle a FileNotFoundError if the file doesn't exist.\n",
    "•\tHandle a ValueError if the file's content can't be converted to an integer.\n",
    "•\tUse a finally block to print a message saying \"File operation attempted.\" This message should print whether an exception occurred or not.\n"
   ]
  },
  {
   "cell_type": "code",
   "execution_count": 14,
   "id": "9f59397b-c688-4db6-ab0d-a83d742d8eae",
   "metadata": {},
   "outputs": [
    {
     "name": "stdout",
     "output_type": "stream",
     "text": [
      "Error: The file 'data.txt' was not found.\n",
      "File operation attempted.\n"
     ]
    }
   ],
   "source": [
    "try:\n",
    "    with open(\"data.txt\", \"r\") as file:\n",
    "        content = file.read().strip()\n",
    "        number = int(content)  \n",
    "        print(f\"The number in the file is: {number}\")\n",
    "\n",
    "except FileNotFoundError:\n",
    "    print(\"Error: The file 'data.txt' was not found.\")\n",
    "\n",
    "except ValueError:\n",
    "    print(\"Error: The file does not contain a valid integer.\")\n",
    "\n",
    "finally:\n",
    "    print(\"File operation attempted.\")\n"
   ]
  },
  {
   "cell_type": "markdown",
   "id": "65fa8f8a-ac1f-4190-84f2-c8ab473db9a9",
   "metadata": {},
   "source": [
    "Question5. Write a program that tries to access the fifth element of the list my_list = [10, 20, 30]. Catch the resulting exception (likely an IndexError). In your except block, print both a custom error message and the standard error message from the exception object itself. (Hint: Use as to assign the exception to a variable)."
   ]
  },
  {
   "cell_type": "code",
   "execution_count": 17,
   "id": "097f60a6-a76b-4b65-84ae-f09a59d3c532",
   "metadata": {},
   "outputs": [
    {
     "name": "stdout",
     "output_type": "stream",
     "text": [
      "Custom Error: You tried to access an element that doesn’t exist in the list.\n",
      "Standard Error Message: list index out of range\n"
     ]
    }
   ],
   "source": [
    "my_list = [10, 20, 30]\n",
    "\n",
    "try:\n",
    "    print(my_list[4])\n",
    "\n",
    "except IndexError as e:\n",
    "    print(\"Custom Error: You tried to access an element that doesn’t exist in the list.\")\n",
    "    print(\"Standard Error Message:\", e)\n"
   ]
  },
  {
   "cell_type": "markdown",
   "id": "65a53656-ba70-40e5-823d-b9e7238c98b1",
   "metadata": {},
   "source": [
    "Question6. Create a function called check_age(age) that takes an age. If the age is negative, raise a ValueError with a custom message like \"Age cannot be negative!\". Otherwise, print \"Age is valid.\" Write code to call this function and handle the potential ValueError.\n",
    "\n"
   ]
  },
  {
   "cell_type": "code",
   "execution_count": 20,
   "id": "4c51a1d8-220f-4312-a39b-c470b28ad4b8",
   "metadata": {},
   "outputs": [
    {
     "name": "stdin",
     "output_type": "stream",
     "text": [
      "Enter your age:  25\n"
     ]
    },
    {
     "name": "stdout",
     "output_type": "stream",
     "text": [
      "Age is valid.\n"
     ]
    }
   ],
   "source": [
    "def check_age(age):\n",
    "    if age < 0:\n",
    "        raise ValueError(\"Age cannot be negative!\")\n",
    "    else:\n",
    "        print(\"Age is valid.\")\n",
    "\n",
    "try:\n",
    "    age_input = int(input(\"Enter your age: \"))\n",
    "    check_age(age_input)\n",
    "\n",
    "except ValueError as e:\n",
    "    print(\"Error:\", e)\n"
   ]
  },
  {
   "cell_type": "code",
   "execution_count": null,
   "id": "615db505-97b1-4fb3-9e86-e059baf21467",
   "metadata": {},
   "outputs": [],
   "source": []
  }
 ],
 "metadata": {
  "kernelspec": {
   "display_name": "Python [conda env:base] *",
   "language": "python",
   "name": "conda-base-py"
  },
  "language_info": {
   "codemirror_mode": {
    "name": "ipython",
    "version": 3
   },
   "file_extension": ".py",
   "mimetype": "text/x-python",
   "name": "python",
   "nbconvert_exporter": "python",
   "pygments_lexer": "ipython3",
   "version": "3.12.7"
  }
 },
 "nbformat": 4,
 "nbformat_minor": 5
}
